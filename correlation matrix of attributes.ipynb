{
 "cells": [
  {
   "cell_type": "code",
   "execution_count": 4,
   "id": "d79f38ed-2c21-47b0-a02f-61854c4c4c90",
   "metadata": {},
   "outputs": [
    {
     "name": "stdout",
     "output_type": "stream",
     "text": [
      "Correlation:\n",
      "               sepal_length  sepal_width  petal_length  petal_width\n",
      "sepal_length      1.000000    -0.109369      0.871754     0.817954\n",
      "sepal_width      -0.109369     1.000000     -0.420516    -0.356544\n",
      "petal_length      0.871754    -0.420516      1.000000     0.962757\n",
      "petal_width       0.817954    -0.356544      0.962757     1.000000\n",
      "Accuracy: 0.9\n"
     ]
    }
   ],
   "source": [
    "import pandas as pd\n",
    "from sklearn.preprocessing import StandardScaler, LabelEncoder\n",
    "from sklearn.decomposition import PCA\n",
    "from sklearn.model_selection import train_test_split\n",
    "from sklearn.svm import SVC\n",
    "from sklearn.metrics import accuracy_score\n",
    "\n",
    "url = \"https://gist.githubusercontent.com/curran/a08a1080b88344b0c8a7/raw/iris.csv\"\n",
    "df = pd.read_csv(url, sep=',')  # it's a CSV\n",
    "\n",
    "X, y = df.iloc[:, :-1], df.iloc[:, -1]\n",
    "X = X.apply(lambda c: LabelEncoder().fit_transform(c.astype(str)) if c.dtype == 'object' else c)\n",
    "y = LabelEncoder().fit_transform(y.astype(str))\n",
    "\n",
    "print(\"Correlation:\\n\", X.corr())\n",
    "\n",
    "X_scaled = StandardScaler().fit_transform(X)\n",
    "X_pca = PCA(0.95).fit_transform(X_scaled)\n",
    "Xtr, Xte, ytr, yte = train_test_split(X_pca, y, test_size=0.2, random_state=42)\n",
    "\n",
    "clf = SVC(kernel='rbf')\n",
    "clf.fit(Xtr, ytr)\n",
    "print(\"Accuracy:\", accuracy_score(yte, clf.predict(Xte)))\n"
   ]
  },
  {
   "cell_type": "code",
   "execution_count": 6,
   "id": "0c13a842-7ef1-42b3-a5a3-82f431877923",
   "metadata": {},
   "outputs": [
    {
     "name": "stdout",
     "output_type": "stream",
     "text": [
      "Correlation:\n",
      "         source\n",
      "source     1.0\n",
      "Accuracy: 0.0\n"
     ]
    }
   ],
   "source": [
    "import pandas as pd\n",
    "from sklearn.preprocessing import StandardScaler, LabelEncoder\n",
    "from sklearn.decomposition import PCA\n",
    "from sklearn.model_selection import train_test_split\n",
    "from sklearn.svm import SVC\n",
    "from sklearn.metrics import accuracy_score\n",
    "\n",
    "# Load\n",
    "df = pd.read_csv(r\"C:\\Users\\Parthiban\\Documents\\Model lab\\my_graph1.tsv\", sep='\\t')\n",
    "\n",
    "# Encode string features to numeric\n",
    "X, y = df.iloc[:, :-1], df.iloc[:, -1]\n",
    "X = X.apply(lambda col: LabelEncoder().fit_transform(col.astype(str)) if col.dtypes == 'object' else col)\n",
    "y = LabelEncoder().fit_transform(y.astype(str))\n",
    "\n",
    "# Correlation\n",
    "print(\"Correlation:\\n\", X.corr())\n",
    "\n",
    "# PCA + SVM\n",
    "X_scaled = StandardScaler().fit_transform(X)\n",
    "X_pca = PCA(0.95).fit_transform(X_scaled)\n",
    "Xtr, Xte, ytr, yte = train_test_split(X_pca, y, test_size=0.2, random_state=42)\n",
    "\n",
    "clf = SVC(kernel='rbf')\n",
    "clf.fit(Xtr, ytr)\n",
    "print(\"Accuracy:\", accuracy_score(yte, clf.predict(Xte)))\n"
   ]
  },
  {
   "cell_type": "code",
   "execution_count": null,
   "id": "40ea30ac-adbd-4058-bfce-caa40e48dc06",
   "metadata": {},
   "outputs": [],
   "source": []
  }
 ],
 "metadata": {
  "kernelspec": {
   "display_name": "Python 3 (ipykernel)",
   "language": "python",
   "name": "python3"
  },
  "language_info": {
   "codemirror_mode": {
    "name": "ipython",
    "version": 3
   },
   "file_extension": ".py",
   "mimetype": "text/x-python",
   "name": "python",
   "nbconvert_exporter": "python",
   "pygments_lexer": "ipython3",
   "version": "3.13.5"
  }
 },
 "nbformat": 4,
 "nbformat_minor": 5
}
