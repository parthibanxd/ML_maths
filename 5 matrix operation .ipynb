{
 "cells": [
  {
   "cell_type": "code",
   "execution_count": 12,
   "id": "1331e101-a14f-4012-869e-1d1d66c11eda",
   "metadata": {},
   "outputs": [
    {
     "name": "stdin",
     "output_type": "stream",
     "text": [
      "Rows of A:  2\n",
      "Enter row elements of A:  2 3\n",
      "Enter row elements of A:  1 2\n",
      "Rows of B:  2\n",
      "Enter row elements of B:  1 3\n",
      "Enter row elements of B:  2 3\n"
     ]
    },
    {
     "name": "stdout",
     "output_type": "stream",
     "text": [
      "\n",
      "C =\n",
      " [[ 8. 15.]\n",
      " [ 5.  9.]]\n",
      "D =\n",
      " [[3. 6.]\n",
      " [3. 5.]]\n",
      "Determinant of C: -2.9999999999999996\n",
      "Determinant of D: -3.0000000000000004\n",
      "Transpose of C:\n",
      " [[ 8.  5.]\n",
      " [15.  9.]]\n",
      "Transpose of D:\n",
      " [[3. 3.]\n",
      " [6. 5.]]\n"
     ]
    }
   ],
   "source": [
    "##### import numpy as np\n",
    "\n",
    "# Input matrices\n",
    "A = np.array([list(map(float, input(\"Enter row elements of A: \").split())) for _ in range(int(input(\"Rows of A: \")))])\n",
    "B = np.array([list(map(float, input(\"Enter row elements of B: \").split())) for _ in range(int(input(\"Rows of B: \")))])\n",
    "\n",
    "# Operations\n",
    "C = np.dot(A, B) if A.shape[1] == B.shape[0] else None\n",
    "D = A + B if A.shape == B.shape else None\n",
    "\n",
    "# Results\n",
    "print(\"\\nC =\\n\", C)\n",
    "print(\"D =\\n\", D)\n",
    "\n",
    "if C is not None and C.shape[0] == C.shape[1]:\n",
    "    print(\"Determinant of C:\", np.linalg.det(C))\n",
    "if D is not None and D.shape[0] == D.shape[1]:\n",
    "    print(\"Determinant of D:\", np.linalg.det(D))\n",
    "\n",
    "if C is not None: print(\"Transpose of C:\\n\", C.T)\n",
    "if D is not None: print(\"Transpose of D:\\n\", D.T)\n"
   ]
  },
  {
   "cell_type": "code",
   "execution_count": 13,
   "id": "e35272f7-cb2c-4db7-9ac8-370ed641fd3c",
   "metadata": {},
   "outputs": [
    {
     "name": "stdin",
     "output_type": "stream",
     "text": [
      "Rows of A:  2\n",
      "Enter row of A:  3 2\n",
      "Enter row of A:  1 2\n",
      "Rows of B:  2\n",
      "Enter row of B:  4 1\n",
      "Enter row of B:  3 4\n"
     ]
    },
    {
     "name": "stdout",
     "output_type": "stream",
     "text": [
      "\n",
      "C =\n",
      " [[18. 11.]\n",
      " [10.  9.]]\n",
      "\n",
      "Eigenvectors of A:\n",
      " [[ 0.89442719 -0.70710678]\n",
      " [ 0.4472136   0.70710678]]\n",
      "\n",
      "Eigenvectors of B:\n",
      " [[ 0.5       -0.5      ]\n",
      " [ 0.8660254  0.8660254]]\n",
      "\n",
      "Addition of eigenvectors:\n",
      " [[ 1.39442719 -1.20710678]\n",
      " [ 1.313239    1.57313218]]\n",
      "\n",
      "Diagonal matrix of C:\n",
      " [[18.  0.]\n",
      " [ 0.  9.]]\n"
     ]
    }
   ],
   "source": [
    "import numpy as np\n",
    "\n",
    "# Input matrices\n",
    "A = np.array([list(map(float, input(\"Enter row of A: \").split())) for _ in range(int(input(\"Rows of A: \")))])\n",
    "B = np.array([list(map(float, input(\"Enter row of B: \").split())) for _ in range(int(input(\"Rows of B: \")))])\n",
    "\n",
    "# a. Dot product\n",
    "C = np.dot(A, B) if A.shape[1] == B.shape[0] else None\n",
    "print(\"\\nC =\\n\", C)\n",
    "\n",
    "# b. Eigenvectors\n",
    "eigvecs_A = np.linalg.eig(A)[1]\n",
    "eigvecs_B = np.linalg.eig(B)[1]\n",
    "print(\"\\nEigenvectors of A:\\n\", eigvecs_A)\n",
    "print(\"\\nEigenvectors of B:\\n\", eigvecs_B)\n",
    "\n",
    "# c. Addition of eigenvectors\n",
    "if eigvecs_A.shape == eigvecs_B.shape:\n",
    "    print(\"\\nAddition of eigenvectors:\\n\", eigvecs_A + eigvecs_B)\n",
    "else:\n",
    "    print(\"\\nCannot add eigenvectors (shape mismatch)\")\n",
    "\n",
    "# d. Diagonal matrix of C\n",
    "if C is not None and C.shape[0] == C.shape[1]:\n",
    "    print(\"\\nDiagonal matrix of C:\\n\", np.diag(np.diag(C)))\n"
   ]
  },
  {
   "cell_type": "code",
   "execution_count": null,
   "id": "f0e1cec8-25c6-43e8-bb3d-75e4ca80de47",
   "metadata": {},
   "outputs": [],
   "source": []
  }
 ],
 "metadata": {
  "kernelspec": {
   "display_name": "Python 3 (ipykernel)",
   "language": "python",
   "name": "python3"
  },
  "language_info": {
   "codemirror_mode": {
    "name": "ipython",
    "version": 3
   },
   "file_extension": ".py",
   "mimetype": "text/x-python",
   "name": "python",
   "nbconvert_exporter": "python",
   "pygments_lexer": "ipython3",
   "version": "3.13.5"
  }
 },
 "nbformat": 4,
 "nbformat_minor": 5
}
