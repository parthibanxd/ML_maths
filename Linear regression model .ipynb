{
 "cells": [
  {
   "cell_type": "code",
   "execution_count": null,
   "id": "31f2d5e3-2991-4eec-945d-bfb734fe1e0e",
   "metadata": {},
   "outputs": [],
   "source": []
  }
 ],
 "metadata": {
  "kernelspec": {
   "display_name": "",
   "name": ""
  },
  "language_info": {
   "name": ""
  }
 },
 "nbformat": 4,
 "nbformat_minor": 5
}
