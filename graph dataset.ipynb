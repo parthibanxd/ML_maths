{
 "cells": [
  {
   "cell_type": "code",
   "execution_count": 2,
   "id": "bd33ca34-f922-47e0-bd54-3fb65f66f646",
   "metadata": {},
   "outputs": [
    {
     "name": "stdout",
     "output_type": "stream",
     "text": [
      "Degree Centrality:\n",
      "source: 0.2\n",
      "target: 0.2\n",
      "A: 0.4\n",
      "B: 0.4\n",
      "C: 0.4\n",
      "D: 0.4\n",
      "\n",
      "Betweenness Centrality:\n",
      "source: 0.0\n",
      "target: 0.0\n",
      "A: 0.05\n",
      "B: 0.05\n",
      "C: 0.05\n",
      "D: 0.05\n",
      "\n",
      "Closeness Centrality:\n",
      "source: 0.2\n",
      "target: 0.2\n",
      "A: 0.44999999999999996\n",
      "B: 0.44999999999999996\n",
      "C: 0.44999999999999996\n",
      "D: 0.44999999999999996\n",
      "\n",
      "Shortest Paths between node pairs:\n",
      "source -> source: ['source']\n",
      "source -> target: ['source', 'target']\n",
      "target -> target: ['target']\n",
      "target -> source: ['target', 'source']\n",
      "A -> A: ['A']\n",
      "A -> B: ['A', 'B']\n",
      "A -> C: ['A', 'C']\n",
      "A -> D: ['A', 'B', 'D']\n",
      "B -> B: ['B']\n",
      "B -> A: ['B', 'A']\n",
      "B -> D: ['B', 'D']\n",
      "B -> C: ['B', 'A', 'C']\n",
      "C -> C: ['C']\n",
      "C -> A: ['C', 'A']\n",
      "C -> D: ['C', 'D']\n",
      "C -> B: ['C', 'A', 'B']\n",
      "D -> D: ['D']\n",
      "D -> B: ['D', 'B']\n",
      "D -> C: ['D', 'C']\n",
      "D -> A: ['D', 'B', 'A']\n"
     ]
    }
   ],
   "source": [
    "import pandas as pd\n",
    "import networkx as nx\n",
    "\n",
    "# Step 1: Load the TSV file\n",
    "file_path = r\"C:\\Users\\Parthiban\\Documents\\Model lab\\my_graph1.tsv\"\n",
    "df = pd.read_csv(file_path, sep='\\t', header=None, names=['source', 'target'])\n",
    "\n",
    "# Step 2: Create a graph\n",
    "G = nx.from_pandas_edgelist(df, 'source', 'target', create_using=nx.Graph())\n",
    "\n",
    "# Step 3: Compute Degree Centrality\n",
    "degree_centrality = nx.degree_centrality(G)\n",
    "print(\"Degree Centrality:\")\n",
    "for node, centrality in degree_centrality.items():\n",
    "    print(f\"{node}: {centrality}\")\n",
    "\n",
    "# Step 4: Compute Betweenness Centrality\n",
    "betweenness_centrality = nx.betweenness_centrality(G)\n",
    "print(\"\\nBetweenness Centrality:\")\n",
    "for node, centrality in betweenness_centrality.items():\n",
    "    print(f\"{node}: {centrality}\")\n",
    "\n",
    "# Step 5: Compute Closeness Centrality\n",
    "closeness_centrality = nx.closeness_centrality(G)\n",
    "print(\"\\nCloseness Centrality:\")\n",
    "for node, centrality in closeness_centrality.items():\n",
    "    print(f\"{node}: {centrality}\")\n",
    "\n",
    "# Step 6: Compute Shortest Path between all node pairs\n",
    "shortest_paths = dict(nx.all_pairs_shortest_path(G))\n",
    "print(\"\\nShortest Paths between node pairs:\")\n",
    "for source, paths in shortest_paths.items():\n",
    "    for target, path in paths.items():\n",
    "        print(f\"{source} -> {target}: {path}\")\n"
   ]
  },
  {
   "cell_type": "code",
   "execution_count": null,
   "id": "018d78da-cba5-49b4-946b-2e34fe5df570",
   "metadata": {},
   "outputs": [],
   "source": []
  }
 ],
 "metadata": {
  "kernelspec": {
   "display_name": "Python 3 (ipykernel)",
   "language": "python",
   "name": "python3"
  },
  "language_info": {
   "codemirror_mode": {
    "name": "ipython",
    "version": 3
   },
   "file_extension": ".py",
   "mimetype": "text/x-python",
   "name": "python",
   "nbconvert_exporter": "python",
   "pygments_lexer": "ipython3",
   "version": "3.13.5"
  }
 },
 "nbformat": 4,
 "nbformat_minor": 5
}
