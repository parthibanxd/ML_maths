{
 "cells": [
  {
   "cell_type": "code",
   "execution_count": null,
   "id": "4a4060e3-f63c-4976-94de-ed5a5a9a773d",
   "metadata": {},
   "outputs": [],
   "source": []
  }
 ],
 "metadata": {
  "kernelspec": {
   "display_name": "",
   "name": ""
  },
  "language_info": {
   "name": ""
  }
 },
 "nbformat": 4,
 "nbformat_minor": 5
}
